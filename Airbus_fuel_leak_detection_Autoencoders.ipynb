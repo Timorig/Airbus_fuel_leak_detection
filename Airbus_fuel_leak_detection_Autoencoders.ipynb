{
  "cells": [
    {
      "cell_type": "markdown",
      "metadata": {
        "id": "1huEpyLc_hYY"
      },
      "source": [
        "#Airbus fuel leak detection with Autoencoders"
      ]
    },
    {
      "cell_type": "markdown",
      "metadata": {
        "id": "8kaAjauv_l00"
      },
      "source": [
        "<img \n",
        "    src=\"http://www.occar.int/sites/default/files/styles/hero_image/public/images/programme-page/A400M.jpg?itok=KEPatgWr\" width=\"1000\" height=\"250\" align=\"center\"/>"
      ]
    },
    {
      "cell_type": "markdown",
      "metadata": {
        "id": "n7aqOI9K_mWu"
      },
      "source": [
        "## 1) Importing libraries"
      ]
    },
    {
      "cell_type": "code",
      "execution_count": null,
      "metadata": {
        "colab": {
          "base_uri": "https://localhost:8080/"
        },
        "id": "vA9F0BGqOfQB",
        "outputId": "36336d29-d995-43e8-87bb-b657876b56c6"
      },
      "outputs": [
        {
          "output_type": "stream",
          "name": "stdout",
          "text": [
            "Drive already mounted at /content/drive; to attempt to forcibly remount, call drive.mount(\"/content/drive\", force_remount=True).\n"
          ]
        }
      ],
      "source": [
        "from google.colab import drive\n",
        "drive.mount('/content/drive')"
      ]
    },
    {
      "cell_type": "code",
      "execution_count": null,
      "metadata": {
        "id": "bR6PNoASYyGD"
      },
      "outputs": [],
      "source": [
        "import pandas as pd\n",
        "from pandas.api.types import is_numeric_dtype\n",
        "from matplotlib import pyplot as plt, dates\n",
        "import seaborn as sns\n",
        "from datetime import datetime\n",
        "import numpy as np\n",
        "import warnings\n",
        "warnings.filterwarnings('ignore')\n",
        "pd.set_option('display.max_columns', None)\n",
        "pd.set_option('display.max_rows', None)\n",
        "\n",
        "\n",
        "import matplotlib.pyplot as plt\n",
        "import numpy as np\n",
        "import pandas as pd\n",
        "import tensorflow as tf\n",
        "\n",
        "from keras.models import Sequential\n",
        "from keras.layers import Dense\n",
        "from keras.utils.vis_utils import plot_model\n",
        "from sklearn.metrics import accuracy_score, roc_auc_score, precision_score, recall_score, f1_score, confusion_matrix\n",
        "\n",
        "from sklearn.model_selection import train_test_split\n",
        "from tensorflow.keras import layers, losses\n",
        "from tensorflow.keras.models import Model"
      ]
    },
    {
      "cell_type": "markdown",
      "metadata": {
        "id": "jcsGpRri_q37"
      },
      "source": [
        "## 2) Loading data\n",
        "\n",
        "The dataset contains simulated leaks of 5kg/s, 1kg/s and 0.5kg/s."
      ]
    },
    {
      "cell_type": "code",
      "execution_count": null,
      "metadata": {
        "id": "3YEtauaPY5S_"
      },
      "outputs": [],
      "source": [
        "final = pd.read_csv(\"/content/drive/MyDrive/capstone/dataset_autoencoder_fakeleaks_resampled.csv\", sep=',')"
      ]
    },
    {
      "cell_type": "code",
      "execution_count": null,
      "metadata": {
        "id": "zZv_5silV975"
      },
      "outputs": [],
      "source": [
        "dl = final.copy()\n",
        "dl = dl.dropna()"
      ]
    },
    {
      "cell_type": "markdown",
      "metadata": {
        "id": "H3MTSme0_uPL"
      },
      "source": [
        "## 3) Feature selection\n",
        "\n",
        "We decided to combine all the fuel used and all the fuel tank quantities into 2 features to simplify our model."
      ]
    },
    {
      "cell_type": "code",
      "execution_count": null,
      "metadata": {
        "id": "QOLsdaeVZduZ"
      },
      "outputs": [],
      "source": [
        "def add_features(dataset):\n",
        "  dataset['TOTAL_FUEL_USED'] = dataset['FUEL_USED_1'] +  dataset['FUEL_USED_2'] +  dataset['FUEL_USED_3'] +  dataset['FUEL_USED_4']\n",
        "  dataset['TOTAL_FUEL_QTY'] = dataset['VALUE_FUEL_QTY_CT'] + dataset['VALUE_FUEL_QTY_FT1'] + dataset['VALUE_FUEL_QTY_FT2'] + dataset['VALUE_FUEL_QTY_FT3'] + dataset['VALUE_FUEL_QTY_FT4'] + dataset['VALUE_FUEL_QTY_LXT'] + dataset['VALUE_FUEL_QTY_RXT']\n",
        "  return dataset \n",
        "\n",
        "def drop(dataset):\n",
        "    dataset = dataset.drop(['FUEL_USED_1','FUEL_USED_2','FUEL_USED_3','FUEL_USED_4','VALUE_FUEL_QTY_CT', 'VALUE_FUEL_QTY_FT1', 'VALUE_FUEL_QTY_FT2', 'VALUE_FUEL_QTY_FT3','VALUE_FUEL_QTY_FT4', 'VALUE_FUEL_QTY_LXT', 'VALUE_FUEL_QTY_RXT'], 1)\n",
        "    return dataset"
      ]
    },
    {
      "cell_type": "code",
      "execution_count": null,
      "metadata": {
        "id": "FWF6GQfzZdua"
      },
      "outputs": [],
      "source": [
        "dl = add_features(dl)\n",
        "dl = drop(dl)"
      ]
    },
    {
      "cell_type": "code",
      "execution_count": null,
      "metadata": {
        "colab": {
          "base_uri": "https://localhost:8080/"
        },
        "id": "NyGuvJMM99tK",
        "outputId": "3222352e-1cac-42af-a830-2bbc867f3d13"
      },
      "outputs": [
        {
          "output_type": "stream",
          "name": "stdout",
          "text": [
            "<class 'pandas.core.frame.DataFrame'>\n",
            "Int64Index: 43489 entries, 0 to 43488\n",
            "Data columns (total 14 columns):\n",
            " #   Column                              Non-Null Count  Dtype  \n",
            "---  ------                              --------------  -----  \n",
            " 0   UTC_TIME                            43489 non-null  object \n",
            " 1   ORIGINAL_INDEX                      43489 non-null  float64\n",
            " 2   FW_GEO_ALTITUDE                     43489 non-null  float64\n",
            " 3   DELTA_TOTAL_FUEL_USED               43489 non-null  float64\n",
            " 4   VALUE_FOB                           43489 non-null  float64\n",
            " 5   VALUE_FOB_FROM_CONSUMPTION          43489 non-null  float64\n",
            " 6   VALUE_FOB_vs_FROM_CONSUMPTION       43489 non-null  float64\n",
            " 7   FOB_FITLINE                         43489 non-null  float64\n",
            " 8   FOB_vs_FITLINE                      43489 non-null  float64\n",
            " 9   FOB_vs_FITLINE_OVER_FOB             43489 non-null  float64\n",
            " 10  DIFF_VALUE_FOB_vs_FROM_CONSUMPTION  43489 non-null  float64\n",
            " 11  LABEL                               43489 non-null  float64\n",
            " 12  TOTAL_FUEL_USED                     43489 non-null  float64\n",
            " 13  TOTAL_FUEL_QTY                      43489 non-null  float64\n",
            "dtypes: float64(13), object(1)\n",
            "memory usage: 5.0+ MB\n"
          ]
        }
      ],
      "source": [
        "dl.info()"
      ]
    },
    {
      "cell_type": "code",
      "execution_count": null,
      "metadata": {
        "id": "6b5p9EQ-Zdua"
      },
      "outputs": [],
      "source": [
        "dl = dl.drop(['ORIGINAL_INDEX', 'UTC_TIME', 'FW_GEO_ALTITUDE'], axis = 1)"
      ]
    },
    {
      "cell_type": "code",
      "execution_count": null,
      "metadata": {
        "id": "BFVKgGS-Zdua"
      },
      "outputs": [],
      "source": [
        "move_column1 = dl.pop('LABEL')\n",
        "\n",
        "dl.insert(10, 'LABEL', move_column1)"
      ]
    },
    {
      "cell_type": "code",
      "execution_count": null,
      "metadata": {
        "id": "OsLhYp62fNU7"
      },
      "outputs": [],
      "source": [
        "dl['LABEL'].replace([1,0],[0,1],inplace=True)"
      ]
    },
    {
      "cell_type": "code",
      "execution_count": null,
      "metadata": {
        "colab": {
          "base_uri": "https://localhost:8080/"
        },
        "id": "PNSJ1kMTfnbx",
        "outputId": "beb79fa2-4173-4765-ed51-1d9dec05fda0"
      },
      "outputs": [
        {
          "output_type": "execute_result",
          "data": {
            "text/plain": [
              "1.0    24596\n",
              "0.0    18893\n",
              "Name: LABEL, dtype: int64"
            ]
          },
          "metadata": {},
          "execution_count": 11
        }
      ],
      "source": [
        "dl['LABEL'].value_counts()"
      ]
    },
    {
      "cell_type": "code",
      "execution_count": null,
      "metadata": {
        "id": "T0yLo3HEZdua"
      },
      "outputs": [],
      "source": [
        "raw_data = dl.values"
      ]
    },
    {
      "cell_type": "markdown",
      "metadata": {
        "id": "Fb3-WbuUAk2c"
      },
      "source": [
        "## 4) Train/Test Split"
      ]
    },
    {
      "cell_type": "code",
      "execution_count": null,
      "metadata": {
        "id": "TgvFXJ1xZdua"
      },
      "outputs": [],
      "source": [
        "# The last element contains the labels\n",
        "labels = raw_data[:, -1]\n",
        "\n",
        "# The other data points are the electrocadriogram data\n",
        "data = raw_data[:, 0:-1]\n",
        "\n",
        "train_data, test_data, train_labels, test_labels = train_test_split(data, labels, test_size=0.2, random_state=21)"
      ]
    },
    {
      "cell_type": "code",
      "execution_count": null,
      "metadata": {
        "colab": {
          "base_uri": "https://localhost:8080/"
        },
        "id": "9xXpj_x8Zdub",
        "outputId": "554e83d9-4ef7-4e69-acf7-725a4c6ef94b"
      },
      "outputs": [
        {
          "output_type": "stream",
          "name": "stdout",
          "text": [
            "(34791, 10)\n",
            "(34791,)\n"
          ]
        }
      ],
      "source": [
        "print(train_data.shape)\n",
        "print(train_labels.shape)"
      ]
    },
    {
      "cell_type": "code",
      "execution_count": null,
      "metadata": {
        "colab": {
          "base_uri": "https://localhost:8080/"
        },
        "id": "OOcB7dWSZdub",
        "outputId": "f2084e6a-2d56-44f4-e9a3-bc85e10a5b71"
      },
      "outputs": [
        {
          "output_type": "execute_result",
          "data": {
            "text/plain": [
              "0.5664108533816217"
            ]
          },
          "metadata": {},
          "execution_count": 15
        }
      ],
      "source": [
        "np.mean(train_labels)"
      ]
    },
    {
      "cell_type": "markdown",
      "metadata": {
        "id": "TjpKhCL-AxsK"
      },
      "source": [
        "## 4) Normalization"
      ]
    },
    {
      "cell_type": "code",
      "execution_count": null,
      "metadata": {
        "id": "4htDUTucZdub"
      },
      "outputs": [],
      "source": [
        "min_val = tf.reduce_min(train_data)\n",
        "max_val = tf.reduce_max(train_data)\n",
        "\n",
        "train_data = (train_data - min_val) / (max_val - min_val)\n",
        "test_data = (test_data - min_val) / (max_val - min_val)\n",
        "\n",
        "train_data = tf.cast(train_data, tf.float64)\n",
        "test_data = tf.cast(test_data, tf.float64)"
      ]
    },
    {
      "cell_type": "code",
      "execution_count": null,
      "metadata": {
        "id": "-1XmqfFwZdub"
      },
      "outputs": [],
      "source": [
        "train_labels = train_labels.astype(bool)\n",
        "test_labels = test_labels.astype(bool)\n",
        "\n",
        "normal_train_data = train_data[train_labels]\n",
        "normal_test_data = test_data[test_labels]\n",
        "\n",
        "anomalous_train_data = train_data[~train_labels]\n",
        "anomalous_test_data = test_data[~test_labels]"
      ]
    },
    {
      "cell_type": "code",
      "execution_count": null,
      "metadata": {
        "colab": {
          "base_uri": "https://localhost:8080/"
        },
        "id": "izgkoeB3Zdub",
        "outputId": "7d6a5fb8-30bf-4ea7-ceda-85e7eea24d31"
      },
      "outputs": [
        {
          "output_type": "stream",
          "name": "stdout",
          "text": [
            "(43489,)\n",
            "(43489, 10)\n",
            "\n",
            "(34791,)\n",
            "(8698,)\n",
            "\n",
            "(19706, 10)\n",
            "(4890, 10)\n",
            "\n",
            "(15085, 10)\n",
            "(3808, 10)\n"
          ]
        }
      ],
      "source": [
        "print(labels.shape)\n",
        "print(data.shape)\n",
        "print('')\n",
        "print(train_labels.shape)\n",
        "print(test_labels.shape)\n",
        "print('')\n",
        "print(normal_train_data.shape)\n",
        "print(normal_test_data.shape)\n",
        "print('')\n",
        "print(anomalous_train_data.shape)\n",
        "print(anomalous_test_data.shape)"
      ]
    },
    {
      "cell_type": "code",
      "execution_count": null,
      "metadata": {
        "colab": {
          "base_uri": "https://localhost:8080/",
          "height": 281
        },
        "id": "eHhHOnUTZdub",
        "outputId": "d1d89d2c-2fe9-40dc-cf07-01d89165f3e4"
      },
      "outputs": [
        {
          "output_type": "display_data",
          "data": {
            "text/plain": [
              "<Figure size 432x288 with 1 Axes>"
            ],
            "image/png": "[encoded data removed]"
          },
          "metadata": {
            "needs_background": "light"
          }
        }
      ],
      "source": [
        "plt.grid()\n",
        "plt.plot(np.arange(10), normal_train_data[0])\n",
        "plt.title(\"normal sequence\")\n",
        "plt.show()"
      ]
    },
    {
      "cell_type": "code",
      "execution_count": null,
      "metadata": {
        "colab": {
          "base_uri": "https://localhost:8080/",
          "height": 281
        },
        "id": "xMBhad8WZdub",
        "outputId": "f9598b58-15a1-43c8-c5a2-312374a4ebb8"
      },
      "outputs": [
        {
          "output_type": "display_data",
          "data": {
            "text/plain": [
              "<Figure size 432x288 with 1 Axes>"
            ],
            "image/png": "[encoded data removed]"
          },
          "metadata": {
            "needs_background": "light"
          }
        }
      ],
      "source": [
        "plt.grid()\n",
        "plt.plot(np.arange(10), anomalous_train_data[0])\n",
        "plt.title(\"abnormal sequence\")\n",
        "plt.show()"
      ]
    },
    {
      "cell_type": "markdown",
      "metadata": {
        "id": "Up70W86_BwEa"
      },
      "source": [
        "## 5) Autoencoder Model"
      ]
    },
    {
      "cell_type": "code",
      "execution_count": null,
      "metadata": {
        "id": "yk4QvM6IZdub"
      },
      "outputs": [],
      "source": [
        "class AnomalyDetector(Model):\n",
        "  def __init__(self):\n",
        "    super(AnomalyDetector, self).__init__()\n",
        "    self.encoder = tf.keras.Sequential([                                  \n",
        "      layers.Dense(80, activation=\"relu\"),\n",
        "      layers.Dense(70, activation=\"relu\"),\n",
        "      layers.Dense(60, activation=\"relu\"),                                  \n",
        "      layers.Dense(50, activation=\"relu\"),\n",
        "      layers.Dense(40, activation=\"relu\"),\n",
        "      layers.Dense(30, activation=\"relu\"),\n",
        "      layers.Dense(20, activation=\"relu\")])\n",
        "      \n",
        "    \n",
        "    self.decoder = tf.keras.Sequential([ \n",
        "      layers.Dense(20, activation=\"relu\"),                                 \n",
        "      layers.Dense(30, activation=\"relu\"),\n",
        "      layers.Dense(40, activation=\"relu\"),\n",
        "      layers.Dense(50, activation= 'relu'),\n",
        "      layers.Dense(60, activation= 'relu'),\n",
        "      layers.Dense(70, activation= \"relu\"),\n",
        "      layers.Dense(80, activation=\"relu\"),\n",
        "      layers.Dense(10, activation=\"sigmoid\")\n",
        "      ])\n",
        "    \n",
        "  def call(self, x):\n",
        "    encoded = self.encoder(x)\n",
        "    decoded = self.decoder(encoded)\n",
        "    return decoded\n",
        "\n",
        "autoencoder = AnomalyDetector()"
      ]
    },
    {
      "cell_type": "code",
      "execution_count": null,
      "metadata": {
        "id": "u1VROATIZduc"
      },
      "outputs": [],
      "source": [
        "autoencoder.compile(optimizer=tf.keras.optimizers.Adam(learning_rate=1e-3), loss= 'mse')"
      ]
    },
    {
      "cell_type": "markdown",
      "metadata": {
        "id": "BJJ5tVdWB8iV"
      },
      "source": [
        "## 6) Training"
      ]
    },
    {
      "cell_type": "code",
      "execution_count": null,
      "metadata": {
        "colab": {
          "base_uri": "https://localhost:8080/"
        },
        "id": "8juKIJ1QZduc",
        "outputId": "3d843bd6-4fb4-4895-c644-efb8825295b0"
      },
      "outputs": [
        {
          "output_type": "stream",
          "name": "stdout",
          "text": [
            "Epoch 1/300\n",
            "198/198 [==============================] - 5s 13ms/step - loss: 0.0114 - val_loss: 0.0011\n",
            "Epoch 2/300\n",
            "198/198 [==============================] - 2s 12ms/step - loss: 7.8934e-04 - val_loss: 7.5600e-04\n",
            "Epoch 3/300\n",
            "198/198 [==============================] - 2s 12ms/step - loss: 5.6702e-04 - val_loss: 9.7028e-05\n",
            "Epoch 4/300\n",
            "198/198 [==============================] - 3s 13ms/step - loss: 2.9014e-05 - val_loss: 5.7824e-05\n",
            "Epoch 5/300\n",
            "198/198 [==============================] - 3s 14ms/step - loss: 1.2773e-05 - val_loss: 4.7353e-05\n",
            "Epoch 6/300\n",
            "198/198 [==============================] - 3s 13ms/step - loss: 8.9657e-06 - val_loss: 5.1363e-05\n",
            "Epoch 7/300\n",
            "198/198 [==============================] - 3s 14ms/step - loss: 7.7594e-06 - val_loss: 4.6884e-05\n",
            "Epoch 8/300\n",
            "198/198 [==============================] - 3s 13ms/step - loss: 9.6903e-06 - val_loss: 4.6490e-05\n",
            "Epoch 9/300\n",
            "198/198 [==============================] - 2s 12ms/step - loss: 7.7449e-06 - val_loss: 4.6399e-05\n",
            "Epoch 10/300\n",
            "198/198 [==============================] - 3s 14ms/step - loss: 9.2899e-06 - val_loss: 4.8131e-05\n",
            "Epoch 11/300\n",
            "198/198 [==============================] - 2s 13ms/step - loss: 7.8123e-06 - val_loss: 4.5413e-05\n",
            "Epoch 12/300\n",
            "198/198 [==============================] - 2s 10ms/step - loss: 6.2866e-06 - val_loss: 5.0968e-05\n",
            "Epoch 13/300\n",
            "198/198 [==============================] - 2s 11ms/step - loss: 1.2060e-05 - val_loss: 6.3315e-05\n",
            "Epoch 14/300\n",
            "198/198 [==============================] - 2s 11ms/step - loss: 4.2253e-06 - val_loss: 5.7948e-05\n",
            "Epoch 15/300\n",
            "198/198 [==============================] - 2s 11ms/step - loss: 8.6185e-06 - val_loss: 4.9522e-05\n",
            "Epoch 16/300\n",
            "198/198 [==============================] - 2s 11ms/step - loss: 9.8756e-06 - val_loss: 4.7393e-05\n",
            "Epoch 17/300\n",
            "198/198 [==============================] - 2s 10ms/step - loss: 6.2538e-06 - val_loss: 4.8389e-05\n",
            "Epoch 18/300\n",
            "198/198 [==============================] - 1s 6ms/step - loss: 7.8458e-06 - val_loss: 5.3011e-05\n",
            "Epoch 19/300\n",
            "198/198 [==============================] - 1s 6ms/step - loss: 7.4575e-06 - val_loss: 4.8282e-05\n",
            "Epoch 20/300\n",
            "198/198 [==============================] - 1s 6ms/step - loss: 7.0989e-06 - val_loss: 4.6264e-05\n",
            "Epoch 21/300\n",
            "198/198 [==============================] - 1s 6ms/step - loss: 6.1778e-06 - val_loss: 5.1450e-05\n",
            "Epoch 22/300\n",
            "198/198 [==============================] - 1s 6ms/step - loss: 8.6057e-06 - val_loss: 4.6672e-05\n",
            "Epoch 23/300\n",
            "198/198 [==============================] - 1s 6ms/step - loss: 6.8676e-06 - val_loss: 5.5629e-05\n",
            "Epoch 24/300\n",
            "198/198 [==============================] - 1s 6ms/step - loss: 6.7505e-06 - val_loss: 4.5911e-05\n",
            "Epoch 25/300\n",
            "198/198 [==============================] - 1s 6ms/step - loss: 7.7187e-06 - val_loss: 5.4641e-05\n",
            "Epoch 26/300\n",
            "198/198 [==============================] - 1s 6ms/step - loss: 6.4815e-06 - val_loss: 4.7468e-05\n",
            "Epoch 27/300\n",
            "198/198 [==============================] - 1s 6ms/step - loss: 6.1468e-06 - val_loss: 6.5982e-05\n",
            "Epoch 28/300\n",
            "198/198 [==============================] - 1s 6ms/step - loss: 8.1856e-06 - val_loss: 6.4601e-05\n",
            "Epoch 29/300\n",
            "198/198 [==============================] - 1s 6ms/step - loss: 6.2087e-06 - val_loss: 4.6918e-05\n",
            "Epoch 30/300\n",
            "198/198 [==============================] - 1s 6ms/step - loss: 6.2518e-06 - val_loss: 4.5144e-05\n",
            "Epoch 31/300\n",
            "198/198 [==============================] - 1s 6ms/step - loss: 5.8583e-06 - val_loss: 4.9198e-05\n",
            "Epoch 32/300\n",
            "198/198 [==============================] - 1s 6ms/step - loss: 7.9891e-06 - val_loss: 5.5529e-05\n",
            "Epoch 33/300\n",
            "198/198 [==============================] - 1s 6ms/step - loss: 5.3768e-06 - val_loss: 4.5522e-05\n",
            "Epoch 34/300\n",
            "198/198 [==============================] - 1s 6ms/step - loss: 6.4635e-06 - val_loss: 4.5898e-05\n",
            "Epoch 35/300\n",
            "198/198 [==============================] - 1s 6ms/step - loss: 7.1655e-06 - val_loss: 7.3204e-05\n",
            "Epoch 36/300\n",
            "198/198 [==============================] - 1s 6ms/step - loss: 3.9690e-06 - val_loss: 9.8477e-05\n",
            "Epoch 37/300\n",
            "198/198 [==============================] - 1s 6ms/step - loss: 9.5986e-06 - val_loss: 4.4316e-05\n",
            "Epoch 38/300\n",
            "198/198 [==============================] - 1s 6ms/step - loss: 5.6547e-06 - val_loss: 4.5631e-05\n",
            "Epoch 39/300\n",
            "198/198 [==============================] - 1s 6ms/step - loss: 6.3075e-06 - val_loss: 5.2290e-05\n",
            "Epoch 40/300\n",
            "198/198 [==============================] - 1s 6ms/step - loss: 5.6084e-06 - val_loss: 4.7971e-05\n",
            "Epoch 41/300\n",
            "198/198 [==============================] - 1s 6ms/step - loss: 5.5845e-06 - val_loss: 4.6318e-05\n",
            "Epoch 42/300\n",
            "198/198 [==============================] - 1s 6ms/step - loss: 7.4994e-06 - val_loss: 5.1063e-05\n",
            "Epoch 43/300\n",
            "198/198 [==============================] - 1s 6ms/step - loss: 3.4348e-06 - val_loss: 4.5705e-05\n",
            "Epoch 44/300\n",
            "198/198 [==============================] - 1s 6ms/step - loss: 7.0862e-06 - val_loss: 4.6393e-05\n",
            "Epoch 45/300\n",
            "198/198 [==============================] - 1s 6ms/step - loss: 6.3696e-06 - val_loss: 4.5781e-05\n",
            "Epoch 46/300\n",
            "198/198 [==============================] - 1s 6ms/step - loss: 3.8443e-06 - val_loss: 5.8733e-05\n",
            "Epoch 47/300\n",
            "198/198 [==============================] - 1s 6ms/step - loss: 6.3339e-06 - val_loss: 4.5754e-05\n",
            "Epoch 48/300\n",
            "198/198 [==============================] - 1s 7ms/step - loss: 5.0089e-06 - val_loss: 7.3141e-05\n",
            "Epoch 49/300\n",
            "198/198 [==============================] - 1s 6ms/step - loss: 6.0305e-06 - val_loss: 4.8223e-05\n",
            "Epoch 50/300\n",
            "198/198 [==============================] - 1s 6ms/step - loss: 5.4788e-06 - val_loss: 4.5500e-05\n",
            "Epoch 51/300\n",
            "198/198 [==============================] - 1s 7ms/step - loss: 8.1232e-06 - val_loss: 4.4669e-05\n",
            "Epoch 52/300\n",
            "198/198 [==============================] - 1s 6ms/step - loss: 2.7424e-06 - val_loss: 4.4070e-05\n",
            "Epoch 53/300\n",
            "198/198 [==============================] - 1s 6ms/step - loss: 5.5840e-06 - val_loss: 5.6397e-05\n",
            "Epoch 54/300\n",
            "198/198 [==============================] - 1s 6ms/step - loss: 4.4774e-06 - val_loss: 4.9540e-05\n",
            "Epoch 55/300\n",
            "198/198 [==============================] - 1s 7ms/step - loss: 7.3723e-06 - val_loss: 4.5779e-05\n",
            "Epoch 56/300\n",
            "198/198 [==============================] - 1s 7ms/step - loss: 2.4422e-06 - val_loss: 4.3623e-05\n",
            "Epoch 57/300\n",
            "198/198 [==============================] - 1s 6ms/step - loss: 6.1803e-06 - val_loss: 4.7733e-05\n",
            "Epoch 58/300\n",
            "198/198 [==============================] - 1s 6ms/step - loss: 5.3174e-06 - val_loss: 4.7323e-05\n",
            "Epoch 59/300\n",
            "198/198 [==============================] - 1s 6ms/step - loss: 3.9102e-06 - val_loss: 4.7767e-05\n",
            "Epoch 60/300\n",
            "198/198 [==============================] - 1s 5ms/step - loss: 5.4840e-06 - val_loss: 4.4222e-05\n",
            "Epoch 61/300\n",
            "198/198 [==============================] - 1s 6ms/step - loss: 3.1301e-06 - val_loss: 4.7280e-05\n",
            "Epoch 62/300\n",
            "198/198 [==============================] - 1s 6ms/step - loss: 6.6708e-06 - val_loss: 4.6651e-05\n",
            "Epoch 63/300\n",
            "198/198 [==============================] - 1s 6ms/step - loss: 3.2415e-06 - val_loss: 4.6739e-05\n",
            "Epoch 64/300\n",
            "198/198 [==============================] - 1s 6ms/step - loss: 6.0445e-06 - val_loss: 4.3084e-05\n",
            "Epoch 65/300\n",
            "198/198 [==============================] - 1s 7ms/step - loss: 4.2108e-06 - val_loss: 4.3081e-05\n",
            "Epoch 66/300\n",
            "198/198 [==============================] - 1s 6ms/step - loss: 7.0037e-06 - val_loss: 4.7652e-05\n",
            "Epoch 67/300\n",
            "198/198 [==============================] - 1s 6ms/step - loss: 1.9615e-06 - val_loss: 4.6475e-05\n",
            "Epoch 68/300\n",
            "198/198 [==============================] - 1s 7ms/step - loss: 5.0353e-06 - val_loss: 4.9166e-05\n",
            "Epoch 69/300\n",
            "198/198 [==============================] - 1s 6ms/step - loss: 6.1574e-06 - val_loss: 4.2082e-05\n",
            "Epoch 70/300\n",
            "198/198 [==============================] - 1s 6ms/step - loss: 2.7042e-06 - val_loss: 5.1055e-05\n",
            "Epoch 71/300\n",
            "198/198 [==============================] - 1s 6ms/step - loss: 4.4201e-06 - val_loss: 4.4222e-05\n",
            "Epoch 72/300\n",
            "198/198 [==============================] - 1s 7ms/step - loss: 3.8606e-06 - val_loss: 4.1587e-05\n",
            "Epoch 73/300\n",
            "198/198 [==============================] - 1s 6ms/step - loss: 4.4331e-06 - val_loss: 1.0841e-04\n",
            "Epoch 74/300\n",
            "198/198 [==============================] - 1s 6ms/step - loss: 7.7537e-06 - val_loss: 4.3062e-05\n",
            "Epoch 75/300\n",
            "198/198 [==============================] - 1s 7ms/step - loss: 3.7912e-06 - val_loss: 4.3139e-05\n",
            "Epoch 76/300\n",
            "198/198 [==============================] - 1s 6ms/step - loss: 2.7728e-06 - val_loss: 4.3105e-05\n",
            "Epoch 77/300\n",
            "198/198 [==============================] - 1s 7ms/step - loss: 4.1177e-06 - val_loss: 4.3885e-05\n",
            "Epoch 78/300\n",
            "198/198 [==============================] - 1s 6ms/step - loss: 4.1189e-06 - val_loss: 4.4373e-05\n",
            "Epoch 79/300\n",
            "198/198 [==============================] - 1s 6ms/step - loss: 3.4716e-06 - val_loss: 4.3079e-05\n",
            "Epoch 80/300\n",
            "198/198 [==============================] - 1s 6ms/step - loss: 6.2590e-06 - val_loss: 4.4059e-05\n",
            "Epoch 81/300\n",
            "198/198 [==============================] - 1s 6ms/step - loss: 1.6489e-06 - val_loss: 4.4357e-05\n",
            "Epoch 82/300\n",
            "198/198 [==============================] - 1s 6ms/step - loss: 4.9604e-06 - val_loss: 4.3399e-05\n",
            "Epoch 83/300\n",
            "198/198 [==============================] - 1s 6ms/step - loss: 3.2138e-06 - val_loss: 5.8058e-05\n",
            "Epoch 84/300\n",
            "198/198 [==============================] - 1s 6ms/step - loss: 4.5095e-06 - val_loss: 4.3896e-05\n",
            "Epoch 85/300\n",
            "198/198 [==============================] - 2s 11ms/step - loss: 3.4796e-06 - val_loss: 4.3913e-05\n",
            "Epoch 86/300\n",
            "198/198 [==============================] - 1s 6ms/step - loss: 4.1795e-06 - val_loss: 4.4812e-05\n",
            "Epoch 87/300\n",
            "198/198 [==============================] - 1s 6ms/step - loss: 4.6158e-06 - val_loss: 4.7446e-05\n",
            "Epoch 88/300\n",
            "198/198 [==============================] - 1s 6ms/step - loss: 2.6625e-06 - val_loss: 4.3740e-05\n",
            "Epoch 89/300\n",
            "198/198 [==============================] - 1s 6ms/step - loss: 4.3539e-06 - val_loss: 4.5420e-05\n",
            "Epoch 90/300\n",
            "198/198 [==============================] - 1s 6ms/step - loss: 2.7265e-06 - val_loss: 4.4874e-05\n",
            "Epoch 91/300\n",
            "198/198 [==============================] - 1s 6ms/step - loss: 4.5114e-06 - val_loss: 4.1428e-05\n",
            "Epoch 92/300\n",
            "198/198 [==============================] - 1s 6ms/step - loss: 4.5701e-06 - val_loss: 4.1946e-05\n",
            "Epoch 93/300\n",
            "198/198 [==============================] - 1s 6ms/step - loss: 3.7579e-06 - val_loss: 4.8943e-05\n",
            "Epoch 94/300\n",
            "198/198 [==============================] - 1s 6ms/step - loss: 2.8543e-06 - val_loss: 4.3458e-05\n",
            "Epoch 95/300\n",
            "198/198 [==============================] - 1s 6ms/step - loss: 3.8069e-06 - val_loss: 5.4384e-05\n",
            "Epoch 96/300\n",
            "198/198 [==============================] - 1s 6ms/step - loss: 3.7224e-06 - val_loss: 4.2009e-05\n",
            "Epoch 97/300\n",
            "198/198 [==============================] - 1s 6ms/step - loss: 4.8270e-06 - val_loss: 4.7083e-05\n",
            "Epoch 98/300\n",
            "198/198 [==============================] - 1s 6ms/step - loss: 2.7862e-06 - val_loss: 4.2142e-05\n",
            "Epoch 99/300\n",
            "198/198 [==============================] - 1s 6ms/step - loss: 4.9307e-06 - val_loss: 4.8166e-05\n",
            "Epoch 100/300\n",
            "198/198 [==============================] - 1s 6ms/step - loss: 3.1683e-06 - val_loss: 4.6859e-05\n",
            "Epoch 101/300\n",
            "198/198 [==============================] - 1s 6ms/step - loss: 1.4463e-06 - val_loss: 5.0702e-05\n",
            "Epoch 102/300\n",
            "198/198 [==============================] - 1s 6ms/step - loss: 5.4724e-06 - val_loss: 4.2775e-05\n",
            "Epoch 103/300\n",
            "198/198 [==============================] - 1s 6ms/step - loss: 4.0516e-06 - val_loss: 4.3175e-05\n",
            "Epoch 104/300\n",
            "198/198 [==============================] - 1s 6ms/step - loss: 2.6707e-06 - val_loss: 4.2438e-05\n",
            "Epoch 105/300\n",
            "198/198 [==============================] - 1s 6ms/step - loss: 3.7120e-06 - val_loss: 4.2499e-05\n",
            "Epoch 106/300\n",
            "198/198 [==============================] - 1s 6ms/step - loss: 4.1775e-06 - val_loss: 4.5347e-05\n",
            "Epoch 107/300\n",
            "198/198 [==============================] - 1s 6ms/step - loss: 2.8088e-06 - val_loss: 4.4593e-05\n",
            "Epoch 108/300\n",
            "198/198 [==============================] - 1s 6ms/step - loss: 2.4908e-06 - val_loss: 4.2520e-05\n",
            "Epoch 109/300\n",
            "198/198 [==============================] - 1s 6ms/step - loss: 4.1847e-06 - val_loss: 4.1676e-05\n",
            "Epoch 110/300\n",
            "198/198 [==============================] - 1s 6ms/step - loss: 3.8680e-06 - val_loss: 4.5354e-05\n",
            "Epoch 111/300\n",
            "198/198 [==============================] - 1s 6ms/step - loss: 2.5754e-06 - val_loss: 4.5551e-05\n",
            "Epoch 112/300\n",
            "198/198 [==============================] - 1s 7ms/step - loss: 3.9889e-06 - val_loss: 4.5064e-05\n",
            "Epoch 113/300\n",
            "198/198 [==============================] - 1s 7ms/step - loss: 4.1961e-06 - val_loss: 4.3450e-05\n",
            "Epoch 114/300\n",
            "198/198 [==============================] - 1s 6ms/step - loss: 3.8682e-06 - val_loss: 4.1440e-05\n",
            "Epoch 115/300\n",
            "198/198 [==============================] - 1s 6ms/step - loss: 2.8963e-06 - val_loss: 4.6522e-05\n",
            "Epoch 116/300\n",
            "198/198 [==============================] - 1s 6ms/step - loss: 2.7989e-06 - val_loss: 4.1325e-05\n",
            "Epoch 117/300\n",
            "198/198 [==============================] - 1s 6ms/step - loss: 2.5352e-06 - val_loss: 4.1248e-05\n",
            "Epoch 118/300\n",
            "198/198 [==============================] - 1s 6ms/step - loss: 4.4789e-06 - val_loss: 4.1963e-05\n",
            "Epoch 119/300\n",
            "198/198 [==============================] - 1s 6ms/step - loss: 2.3419e-06 - val_loss: 5.7426e-05\n",
            "Epoch 120/300\n",
            "198/198 [==============================] - 1s 6ms/step - loss: 3.3560e-06 - val_loss: 4.2044e-05\n",
            "Epoch 121/300\n",
            "198/198 [==============================] - 1s 6ms/step - loss: 3.4839e-06 - val_loss: 5.8795e-05\n",
            "Epoch 122/300\n",
            "198/198 [==============================] - 1s 6ms/step - loss: 5.3025e-06 - val_loss: 4.1675e-05\n",
            "Epoch 123/300\n",
            "198/198 [==============================] - 1s 6ms/step - loss: 2.4985e-06 - val_loss: 4.7948e-05\n",
            "Epoch 124/300\n",
            "198/198 [==============================] - 1s 6ms/step - loss: 4.3510e-06 - val_loss: 4.1724e-05\n",
            "Epoch 125/300\n",
            "198/198 [==============================] - 1s 6ms/step - loss: 3.0415e-06 - val_loss: 4.4012e-05\n",
            "Epoch 126/300\n",
            "198/198 [==============================] - 1s 6ms/step - loss: 3.6517e-06 - val_loss: 4.3076e-05\n",
            "Epoch 127/300\n",
            "198/198 [==============================] - 1s 6ms/step - loss: 2.3345e-06 - val_loss: 4.2096e-05\n",
            "Epoch 128/300\n",
            "198/198 [==============================] - 1s 6ms/step - loss: 3.0168e-06 - val_loss: 4.5889e-05\n",
            "Epoch 129/300\n",
            "198/198 [==============================] - 1s 6ms/step - loss: 2.2259e-06 - val_loss: 4.6125e-05\n",
            "Epoch 130/300\n",
            "198/198 [==============================] - 1s 6ms/step - loss: 4.1150e-06 - val_loss: 4.2807e-05\n",
            "Epoch 131/300\n",
            "198/198 [==============================] - 1s 6ms/step - loss: 2.7046e-06 - val_loss: 4.2329e-05\n",
            "Epoch 132/300\n",
            "198/198 [==============================] - 1s 6ms/step - loss: 3.7955e-06 - val_loss: 4.0259e-05\n",
            "Epoch 133/300\n",
            "198/198 [==============================] - 1s 6ms/step - loss: 3.7524e-06 - val_loss: 5.3414e-05\n",
            "Epoch 134/300\n",
            "198/198 [==============================] - 1s 6ms/step - loss: 2.8693e-06 - val_loss: 4.1838e-05\n",
            "Epoch 135/300\n",
            "198/198 [==============================] - 1s 6ms/step - loss: 6.9618e-06 - val_loss: 4.2619e-05\n",
            "Epoch 136/300\n",
            "198/198 [==============================] - 1s 6ms/step - loss: 8.4880e-07 - val_loss: 4.0979e-05\n",
            "Epoch 137/300\n",
            "198/198 [==============================] - 1s 6ms/step - loss: 2.2382e-06 - val_loss: 4.4888e-05\n",
            "Epoch 138/300\n",
            "198/198 [==============================] - 1s 6ms/step - loss: 2.1389e-06 - val_loss: 4.3905e-05\n",
            "Epoch 139/300\n",
            "198/198 [==============================] - 1s 6ms/step - loss: 2.3387e-06 - val_loss: 4.1451e-05\n",
            "Epoch 140/300\n",
            "198/198 [==============================] - 1s 6ms/step - loss: 4.2510e-06 - val_loss: 4.1109e-05\n",
            "Epoch 141/300\n",
            "198/198 [==============================] - 1s 6ms/step - loss: 2.4654e-06 - val_loss: 4.1882e-05\n",
            "Epoch 142/300\n",
            "198/198 [==============================] - 1s 6ms/step - loss: 2.4933e-06 - val_loss: 4.1774e-05\n",
            "Epoch 143/300\n",
            "198/198 [==============================] - 1s 6ms/step - loss: 2.7434e-06 - val_loss: 4.8111e-05\n",
            "Epoch 144/300\n",
            "198/198 [==============================] - 1s 6ms/step - loss: 3.8321e-06 - val_loss: 4.2643e-05\n",
            "Epoch 145/300\n",
            "198/198 [==============================] - 1s 6ms/step - loss: 2.1111e-06 - val_loss: 4.4236e-05\n",
            "Epoch 146/300\n",
            "198/198 [==============================] - 1s 6ms/step - loss: 5.3940e-06 - val_loss: 4.0429e-05\n",
            "Epoch 147/300\n",
            "198/198 [==============================] - 1s 6ms/step - loss: 1.6479e-06 - val_loss: 4.0202e-05\n",
            "Epoch 148/300\n",
            "198/198 [==============================] - 1s 6ms/step - loss: 2.3480e-06 - val_loss: 4.3127e-05\n",
            "Epoch 149/300\n",
            "198/198 [==============================] - 1s 6ms/step - loss: 4.4551e-06 - val_loss: 4.1027e-05\n",
            "Epoch 150/300\n",
            "198/198 [==============================] - 1s 6ms/step - loss: 1.8992e-06 - val_loss: 4.4668e-05\n",
            "Epoch 151/300\n",
            "198/198 [==============================] - 1s 6ms/step - loss: 4.0046e-06 - val_loss: 4.1074e-05\n",
            "Epoch 152/300\n",
            "198/198 [==============================] - 1s 6ms/step - loss: 2.9865e-06 - val_loss: 1.0411e-04\n",
            "Epoch 153/300\n",
            "198/198 [==============================] - 1s 7ms/step - loss: 5.0266e-06 - val_loss: 4.0611e-05\n",
            "Epoch 154/300\n",
            "198/198 [==============================] - 1s 6ms/step - loss: 1.0727e-06 - val_loss: 4.3015e-05\n",
            "Epoch 155/300\n",
            "198/198 [==============================] - 1s 6ms/step - loss: 3.3151e-06 - val_loss: 5.1134e-05\n",
            "Epoch 156/300\n",
            "198/198 [==============================] - 1s 6ms/step - loss: 5.6158e-06 - val_loss: 4.1744e-05\n",
            "Epoch 157/300\n",
            "198/198 [==============================] - 1s 6ms/step - loss: 6.5192e-07 - val_loss: 4.1636e-05\n",
            "Epoch 158/300\n",
            "198/198 [==============================] - 1s 6ms/step - loss: 4.6261e-06 - val_loss: 7.0092e-05\n",
            "Epoch 159/300\n",
            "198/198 [==============================] - 1s 6ms/step - loss: 4.4338e-06 - val_loss: 4.1185e-05\n",
            "Epoch 160/300\n",
            "198/198 [==============================] - 1s 6ms/step - loss: 9.9144e-07 - val_loss: 4.3671e-05\n",
            "Epoch 161/300\n",
            "198/198 [==============================] - 1s 6ms/step - loss: 2.3913e-06 - val_loss: 4.0204e-05\n",
            "Epoch 162/300\n",
            "198/198 [==============================] - 1s 6ms/step - loss: 2.7451e-06 - val_loss: 4.1496e-05\n",
            "Epoch 163/300\n",
            "198/198 [==============================] - 1s 6ms/step - loss: 2.5069e-06 - val_loss: 4.1400e-05\n",
            "Epoch 164/300\n",
            "198/198 [==============================] - 1s 6ms/step - loss: 5.3078e-06 - val_loss: 4.1861e-05\n",
            "Epoch 165/300\n",
            "198/198 [==============================] - 1s 6ms/step - loss: 6.9712e-07 - val_loss: 4.1328e-05\n",
            "Epoch 166/300\n",
            "198/198 [==============================] - 1s 6ms/step - loss: 3.5831e-06 - val_loss: 4.0927e-05\n",
            "Epoch 167/300\n",
            "198/198 [==============================] - 1s 6ms/step - loss: 1.5918e-06 - val_loss: 4.4678e-05\n",
            "Epoch 168/300\n",
            "198/198 [==============================] - 1s 6ms/step - loss: 3.3023e-06 - val_loss: 4.1597e-05\n",
            "Epoch 169/300\n",
            "198/198 [==============================] - 1s 6ms/step - loss: 1.5959e-06 - val_loss: 4.0491e-05\n",
            "Epoch 170/300\n",
            "198/198 [==============================] - 1s 6ms/step - loss: 2.9727e-06 - val_loss: 4.0947e-05\n",
            "Epoch 171/300\n",
            "198/198 [==============================] - 1s 6ms/step - loss: 4.5954e-06 - val_loss: 4.3273e-05\n",
            "Epoch 172/300\n",
            "198/198 [==============================] - 1s 7ms/step - loss: 1.1358e-06 - val_loss: 4.1308e-05\n",
            "Epoch 173/300\n",
            "198/198 [==============================] - 2s 11ms/step - loss: 2.5844e-06 - val_loss: 4.1532e-05\n",
            "Epoch 174/300\n",
            "198/198 [==============================] - 2s 9ms/step - loss: 4.5625e-06 - val_loss: 4.0733e-05\n",
            "Epoch 175/300\n",
            "198/198 [==============================] - 2s 11ms/step - loss: 2.8119e-06 - val_loss: 4.2589e-05\n",
            "Epoch 176/300\n",
            "198/198 [==============================] - 2s 8ms/step - loss: 1.9447e-06 - val_loss: 3.9834e-05\n",
            "Epoch 177/300\n",
            "198/198 [==============================] - 1s 6ms/step - loss: 2.8449e-06 - val_loss: 5.0329e-05\n",
            "Epoch 178/300\n",
            "198/198 [==============================] - 1s 6ms/step - loss: 2.0817e-06 - val_loss: 4.0207e-05\n",
            "Epoch 179/300\n",
            "198/198 [==============================] - 1s 6ms/step - loss: 5.9871e-06 - val_loss: 4.0354e-05\n",
            "Epoch 180/300\n",
            "198/198 [==============================] - 1s 6ms/step - loss: 9.4390e-07 - val_loss: 4.0144e-05\n",
            "Epoch 181/300\n",
            "198/198 [==============================] - 1s 6ms/step - loss: 1.1962e-06 - val_loss: 4.2039e-05\n",
            "Epoch 182/300\n",
            "198/198 [==============================] - 1s 7ms/step - loss: 3.1110e-06 - val_loss: 3.9882e-05\n",
            "Epoch 183/300\n",
            "198/198 [==============================] - 1s 6ms/step - loss: 2.2405e-06 - val_loss: 4.0615e-05\n",
            "Epoch 184/300\n",
            "198/198 [==============================] - 1s 6ms/step - loss: 3.7826e-06 - val_loss: 4.9053e-05\n",
            "Epoch 185/300\n",
            "198/198 [==============================] - 1s 6ms/step - loss: 2.6672e-06 - val_loss: 4.0055e-05\n",
            "Epoch 186/300\n",
            "198/198 [==============================] - 1s 7ms/step - loss: 1.5647e-06 - val_loss: 4.3463e-05\n",
            "Epoch 187/300\n",
            "198/198 [==============================] - 1s 6ms/step - loss: 2.9664e-06 - val_loss: 4.0916e-05\n",
            "Epoch 188/300\n",
            "198/198 [==============================] - 1s 6ms/step - loss: 2.3595e-06 - val_loss: 5.5857e-05\n",
            "Epoch 189/300\n",
            "198/198 [==============================] - 1s 6ms/step - loss: 2.2426e-06 - val_loss: 4.0067e-05\n",
            "Epoch 190/300\n",
            "198/198 [==============================] - 1s 7ms/step - loss: 4.2788e-06 - val_loss: 4.0538e-05\n",
            "Epoch 191/300\n",
            "198/198 [==============================] - 1s 6ms/step - loss: 2.2979e-06 - val_loss: 3.9831e-05\n",
            "Epoch 192/300\n",
            "198/198 [==============================] - 1s 7ms/step - loss: 1.3612e-06 - val_loss: 4.6818e-05\n",
            "Epoch 193/300\n",
            "198/198 [==============================] - 1s 6ms/step - loss: 2.9531e-06 - val_loss: 5.2367e-05\n",
            "Epoch 194/300\n",
            "198/198 [==============================] - 1s 6ms/step - loss: 5.5360e-06 - val_loss: 3.9403e-05\n",
            "Epoch 195/300\n",
            "198/198 [==============================] - 1s 7ms/step - loss: 1.3361e-06 - val_loss: 4.1881e-05\n",
            "Epoch 196/300\n",
            "198/198 [==============================] - 1s 6ms/step - loss: 1.9522e-06 - val_loss: 4.0693e-05\n",
            "Epoch 197/300\n",
            "198/198 [==============================] - 1s 6ms/step - loss: 2.4955e-06 - val_loss: 4.1001e-05\n",
            "Epoch 198/300\n",
            "198/198 [==============================] - 1s 6ms/step - loss: 2.9795e-06 - val_loss: 8.2123e-05\n",
            "Epoch 199/300\n",
            "198/198 [==============================] - 1s 7ms/step - loss: 7.6030e-06 - val_loss: 4.0455e-05\n",
            "Epoch 200/300\n",
            "198/198 [==============================] - 1s 6ms/step - loss: 5.6466e-07 - val_loss: 4.1304e-05\n",
            "Epoch 201/300\n",
            "198/198 [==============================] - 1s 6ms/step - loss: 1.0292e-06 - val_loss: 4.1880e-05\n",
            "Epoch 202/300\n",
            "198/198 [==============================] - 1s 7ms/step - loss: 2.3539e-06 - val_loss: 4.2424e-05\n",
            "Epoch 203/300\n",
            "198/198 [==============================] - 1s 6ms/step - loss: 1.9266e-06 - val_loss: 4.2658e-05\n",
            "Epoch 204/300\n",
            "198/198 [==============================] - 1s 6ms/step - loss: 2.4591e-06 - val_loss: 4.0854e-05\n",
            "Epoch 205/300\n",
            "198/198 [==============================] - 1s 6ms/step - loss: 2.2080e-06 - val_loss: 4.6816e-05\n",
            "Epoch 206/300\n",
            "198/198 [==============================] - 1s 6ms/step - loss: 3.2166e-06 - val_loss: 3.9844e-05\n",
            "Epoch 207/300\n",
            "198/198 [==============================] - 1s 8ms/step - loss: 2.1975e-06 - val_loss: 6.0751e-05\n",
            "Epoch 208/300\n",
            "198/198 [==============================] - 1s 7ms/step - loss: 2.2973e-06 - val_loss: 4.2199e-05\n",
            "Epoch 209/300\n",
            "198/198 [==============================] - 1s 6ms/step - loss: 3.9320e-06 - val_loss: 4.2973e-05\n",
            "Epoch 210/300\n",
            "198/198 [==============================] - 1s 6ms/step - loss: 1.2847e-06 - val_loss: 3.9421e-05\n",
            "Epoch 211/300\n",
            "198/198 [==============================] - 1s 6ms/step - loss: 2.2864e-06 - val_loss: 4.0339e-05\n",
            "Epoch 212/300\n",
            "198/198 [==============================] - 1s 6ms/step - loss: 1.9670e-06 - val_loss: 4.0633e-05\n",
            "Epoch 213/300\n",
            "198/198 [==============================] - 1s 6ms/step - loss: 2.2772e-06 - val_loss: 4.0894e-05\n",
            "Epoch 214/300\n",
            "198/198 [==============================] - 1s 6ms/step - loss: 3.9658e-06 - val_loss: 4.2279e-05\n",
            "Epoch 215/300\n",
            "198/198 [==============================] - 1s 6ms/step - loss: 8.9555e-07 - val_loss: 3.9573e-05\n",
            "Epoch 216/300\n",
            "198/198 [==============================] - 1s 6ms/step - loss: 2.9913e-06 - val_loss: 4.4174e-05\n",
            "Epoch 217/300\n",
            "198/198 [==============================] - 1s 7ms/step - loss: 1.2187e-06 - val_loss: 4.0431e-05\n",
            "Epoch 218/300\n",
            "198/198 [==============================] - 1s 6ms/step - loss: 3.7598e-06 - val_loss: 3.9820e-05\n",
            "Epoch 219/300\n",
            "198/198 [==============================] - 2s 11ms/step - loss: 1.2213e-06 - val_loss: 4.3067e-05\n",
            "Epoch 220/300\n",
            "198/198 [==============================] - 2s 12ms/step - loss: 2.5174e-06 - val_loss: 4.2023e-05\n",
            "Epoch 221/300\n",
            "198/198 [==============================] - 2s 12ms/step - loss: 3.1293e-06 - val_loss: 4.0247e-05\n",
            "Epoch 222/300\n",
            "198/198 [==============================] - 2s 12ms/step - loss: 2.4314e-06 - val_loss: 4.9431e-05\n",
            "Epoch 223/300\n",
            "198/198 [==============================] - 3s 13ms/step - loss: 1.0392e-06 - val_loss: 4.0000e-05\n",
            "Epoch 224/300\n",
            "198/198 [==============================] - 3s 14ms/step - loss: 1.9865e-06 - val_loss: 4.0445e-05\n",
            "Epoch 225/300\n",
            "198/198 [==============================] - 3s 14ms/step - loss: 2.8674e-06 - val_loss: 4.1633e-05\n",
            "Epoch 226/300\n",
            "198/198 [==============================] - 3s 15ms/step - loss: 1.7594e-06 - val_loss: 4.4729e-05\n",
            "Epoch 227/300\n",
            "198/198 [==============================] - 2s 8ms/step - loss: 2.8819e-06 - val_loss: 3.9575e-05\n",
            "Epoch 228/300\n",
            "198/198 [==============================] - 1s 6ms/step - loss: 2.2254e-06 - val_loss: 4.2505e-05\n",
            "Epoch 229/300\n",
            "198/198 [==============================] - 1s 6ms/step - loss: 1.8752e-06 - val_loss: 3.9894e-05\n",
            "Epoch 230/300\n",
            "198/198 [==============================] - 1s 7ms/step - loss: 2.3567e-06 - val_loss: 6.4595e-05\n",
            "Epoch 231/300\n",
            "198/198 [==============================] - 1s 7ms/step - loss: 2.4026e-06 - val_loss: 4.0073e-05\n",
            "Epoch 232/300\n",
            "198/198 [==============================] - 1s 7ms/step - loss: 1.3929e-06 - val_loss: 5.6206e-05\n",
            "Epoch 233/300\n",
            "198/198 [==============================] - 1s 7ms/step - loss: 4.7042e-06 - val_loss: 3.9991e-05\n",
            "Epoch 234/300\n",
            "198/198 [==============================] - 1s 6ms/step - loss: 1.4390e-06 - val_loss: 4.6253e-05\n",
            "Epoch 235/300\n",
            "198/198 [==============================] - 1s 7ms/step - loss: 2.6727e-06 - val_loss: 3.9788e-05\n",
            "Epoch 236/300\n",
            "198/198 [==============================] - 1s 7ms/step - loss: 1.8493e-06 - val_loss: 3.9088e-05\n",
            "Epoch 237/300\n",
            "198/198 [==============================] - 1s 7ms/step - loss: 2.2836e-06 - val_loss: 4.0494e-05\n",
            "Epoch 238/300\n",
            "198/198 [==============================] - 1s 6ms/step - loss: 1.8632e-06 - val_loss: 4.4919e-05\n",
            "Epoch 239/300\n",
            "198/198 [==============================] - 1s 6ms/step - loss: 2.2079e-06 - val_loss: 4.3627e-05\n",
            "Epoch 240/300\n",
            "198/198 [==============================] - 1s 6ms/step - loss: 2.9179e-06 - val_loss: 4.2131e-05\n",
            "Epoch 241/300\n",
            "198/198 [==============================] - 1s 7ms/step - loss: 8.9423e-07 - val_loss: 3.9120e-05\n",
            "Epoch 242/300\n",
            "198/198 [==============================] - 1s 7ms/step - loss: 2.9369e-06 - val_loss: 3.9439e-05\n",
            "Epoch 243/300\n",
            "198/198 [==============================] - 1s 7ms/step - loss: 1.3339e-06 - val_loss: 3.9421e-05\n",
            "Epoch 244/300\n",
            "198/198 [==============================] - 1s 7ms/step - loss: 2.0112e-06 - val_loss: 4.7577e-05\n",
            "Epoch 245/300\n",
            "198/198 [==============================] - 2s 12ms/step - loss: 2.9876e-06 - val_loss: 4.3271e-05\n",
            "Epoch 246/300\n",
            "198/198 [==============================] - 1s 7ms/step - loss: 1.4223e-06 - val_loss: 4.0253e-05\n",
            "Epoch 247/300\n",
            "198/198 [==============================] - 2s 8ms/step - loss: 2.6806e-06 - val_loss: 3.9238e-05\n",
            "Epoch 248/300\n",
            "198/198 [==============================] - 2s 8ms/step - loss: 2.4657e-06 - val_loss: 3.9460e-05\n",
            "Epoch 249/300\n",
            "198/198 [==============================] - 2s 8ms/step - loss: 9.5948e-07 - val_loss: 3.9763e-05\n",
            "Epoch 250/300\n",
            "198/198 [==============================] - 1s 7ms/step - loss: 6.7821e-06 - val_loss: 3.9635e-05\n",
            "Epoch 251/300\n",
            "198/198 [==============================] - 1s 6ms/step - loss: 5.8151e-07 - val_loss: 3.9158e-05\n",
            "Epoch 252/300\n",
            "198/198 [==============================] - 1s 6ms/step - loss: 1.6606e-06 - val_loss: 3.9999e-05\n",
            "Epoch 253/300\n",
            "198/198 [==============================] - 1s 7ms/step - loss: 2.2300e-06 - val_loss: 5.6248e-05\n",
            "Epoch 254/300\n",
            "198/198 [==============================] - 1s 6ms/step - loss: 2.2069e-06 - val_loss: 4.0436e-05\n",
            "Epoch 255/300\n",
            "198/198 [==============================] - 1s 7ms/step - loss: 1.2606e-06 - val_loss: 3.9963e-05\n",
            "Epoch 256/300\n",
            "198/198 [==============================] - 1s 7ms/step - loss: 2.3899e-06 - val_loss: 3.9195e-05\n",
            "Epoch 257/300\n",
            "198/198 [==============================] - 1s 6ms/step - loss: 1.6668e-06 - val_loss: 3.9718e-05\n",
            "Epoch 258/300\n",
            "198/198 [==============================] - 1s 7ms/step - loss: 2.9038e-06 - val_loss: 4.1093e-05\n",
            "Epoch 259/300\n",
            "198/198 [==============================] - 1s 6ms/step - loss: 1.1550e-06 - val_loss: 4.3576e-05\n",
            "Epoch 260/300\n",
            "198/198 [==============================] - 1s 6ms/step - loss: 4.6990e-06 - val_loss: 4.0954e-05\n",
            "Epoch 261/300\n",
            "198/198 [==============================] - 1s 7ms/step - loss: 1.2121e-06 - val_loss: 4.3456e-05\n",
            "Epoch 262/300\n",
            "198/198 [==============================] - 1s 6ms/step - loss: 1.6697e-06 - val_loss: 4.0435e-05\n",
            "Epoch 263/300\n",
            "198/198 [==============================] - 1s 7ms/step - loss: 2.3737e-06 - val_loss: 4.4724e-05\n",
            "Epoch 264/300\n",
            "198/198 [==============================] - 1s 6ms/step - loss: 1.5183e-06 - val_loss: 4.1580e-05\n",
            "Epoch 265/300\n",
            "198/198 [==============================] - 1s 6ms/step - loss: 2.5257e-06 - val_loss: 5.2860e-05\n",
            "Epoch 266/300\n",
            "198/198 [==============================] - 1s 6ms/step - loss: 2.2366e-06 - val_loss: 4.1890e-05\n",
            "Epoch 267/300\n",
            "198/198 [==============================] - 1s 7ms/step - loss: 1.7690e-06 - val_loss: 4.1006e-05\n",
            "Epoch 268/300\n",
            "198/198 [==============================] - 1s 7ms/step - loss: 3.0042e-06 - val_loss: 4.3262e-05\n",
            "Epoch 269/300\n",
            "198/198 [==============================] - 1s 7ms/step - loss: 2.1058e-06 - val_loss: 3.7994e-05\n",
            "Epoch 270/300\n",
            "198/198 [==============================] - 1s 7ms/step - loss: 1.8307e-06 - val_loss: 4.0878e-05\n",
            "Epoch 271/300\n",
            "198/198 [==============================] - 1s 6ms/step - loss: 1.4860e-06 - val_loss: 4.0102e-05\n",
            "Epoch 272/300\n",
            "198/198 [==============================] - 1s 6ms/step - loss: 2.8492e-06 - val_loss: 3.9147e-05\n",
            "Epoch 273/300\n",
            "198/198 [==============================] - 1s 6ms/step - loss: 7.1733e-07 - val_loss: 4.2046e-05\n",
            "Epoch 274/300\n",
            "198/198 [==============================] - 1s 6ms/step - loss: 2.1381e-06 - val_loss: 3.9697e-05\n",
            "Epoch 275/300\n",
            "198/198 [==============================] - 1s 6ms/step - loss: 2.1705e-06 - val_loss: 4.1048e-05\n",
            "Epoch 276/300\n",
            "198/198 [==============================] - 1s 6ms/step - loss: 1.4567e-06 - val_loss: 4.0910e-05\n",
            "Epoch 277/300\n",
            "198/198 [==============================] - 1s 6ms/step - loss: 2.4753e-06 - val_loss: 4.0131e-05\n",
            "Epoch 278/300\n",
            "198/198 [==============================] - 1s 6ms/step - loss: 2.5381e-06 - val_loss: 3.8680e-05\n",
            "Epoch 279/300\n",
            "198/198 [==============================] - 1s 6ms/step - loss: 1.3664e-06 - val_loss: 4.2312e-05\n",
            "Epoch 280/300\n",
            "198/198 [==============================] - 1s 6ms/step - loss: 2.2531e-06 - val_loss: 4.0996e-05\n",
            "Epoch 281/300\n",
            "198/198 [==============================] - 1s 6ms/step - loss: 1.8544e-06 - val_loss: 4.1023e-05\n",
            "Epoch 282/300\n",
            "198/198 [==============================] - 1s 6ms/step - loss: 2.4167e-06 - val_loss: 4.3402e-05\n",
            "Epoch 283/300\n",
            "198/198 [==============================] - 1s 6ms/step - loss: 9.8059e-07 - val_loss: 3.9299e-05\n",
            "Epoch 284/300\n",
            "198/198 [==============================] - 1s 6ms/step - loss: 2.2874e-06 - val_loss: 3.8930e-05\n",
            "Epoch 285/300\n",
            "198/198 [==============================] - 1s 6ms/step - loss: 2.9927e-06 - val_loss: 3.9642e-05\n",
            "Epoch 286/300\n",
            "198/198 [==============================] - 1s 6ms/step - loss: 7.8167e-07 - val_loss: 4.1484e-05\n",
            "Epoch 287/300\n",
            "198/198 [==============================] - 1s 6ms/step - loss: 1.8629e-06 - val_loss: 4.4117e-05\n",
            "Epoch 288/300\n",
            "198/198 [==============================] - 1s 6ms/step - loss: 1.5616e-06 - val_loss: 7.8207e-05\n",
            "Epoch 289/300\n",
            "198/198 [==============================] - 1s 6ms/step - loss: 5.7908e-06 - val_loss: 4.1905e-05\n",
            "Epoch 290/300\n",
            "198/198 [==============================] - 1s 6ms/step - loss: 9.5339e-07 - val_loss: 4.2207e-05\n",
            "Epoch 291/300\n",
            "198/198 [==============================] - 1s 6ms/step - loss: 1.5574e-06 - val_loss: 4.1790e-05\n",
            "Epoch 292/300\n",
            "198/198 [==============================] - 1s 6ms/step - loss: 1.5376e-06 - val_loss: 4.2664e-05\n",
            "Epoch 293/300\n",
            "198/198 [==============================] - 1s 6ms/step - loss: 2.3354e-06 - val_loss: 5.2503e-05\n",
            "Epoch 294/300\n",
            "198/198 [==============================] - 2s 8ms/step - loss: 2.4014e-06 - val_loss: 3.9041e-05\n",
            "Epoch 295/300\n",
            "198/198 [==============================] - 1s 6ms/step - loss: 1.3280e-06 - val_loss: 3.8244e-05\n",
            "Epoch 296/300\n",
            "198/198 [==============================] - 1s 6ms/step - loss: 1.7404e-06 - val_loss: 4.8639e-05\n",
            "Epoch 297/300\n",
            "198/198 [==============================] - 1s 7ms/step - loss: 3.0327e-06 - val_loss: 4.0296e-05\n",
            "Epoch 298/300\n",
            "198/198 [==============================] - 1s 6ms/step - loss: 1.0352e-06 - val_loss: 4.0098e-05\n",
            "Epoch 299/300\n",
            "198/198 [==============================] - 1s 6ms/step - loss: 2.0600e-06 - val_loss: 4.1126e-05\n",
            "Epoch 300/300\n",
            "198/198 [==============================] - 1s 7ms/step - loss: 1.7881e-06 - val_loss: 4.0175e-05\n"
          ]
        }
      ],
      "source": [
        "history = autoencoder.fit(normal_train_data, normal_train_data, \n",
        "          epochs=300, \n",
        "          batch_size=100,\n",
        "          validation_data=(test_data, test_data),\n",
        "          shuffle=True)"
      ]
    },
    {
      "cell_type": "code",
      "execution_count": null,
      "metadata": {
        "colab": {
          "base_uri": "https://localhost:8080/"
        },
        "id": "r8s3Yzw77f_9",
        "outputId": "8598644d-e73e-4b48-ba1f-eb7d7c4ee42d"
      },
      "outputs": [
        {
          "output_type": "stream",
          "name": "stdout",
          "text": [
            "Model: \"sequential\"\n",
            "_________________________________________________________________\n",
            " Layer (type)                Output Shape              Param #   \n",
            "=================================================================\n",
            " dense (Dense)               (None, 80)                880       \n",
            "                                                                 \n",
            " dense_1 (Dense)             (None, 70)                5670      \n",
            "                                                                 \n",
            " dense_2 (Dense)             (None, 60)                4260      \n",
            "                                                                 \n",
            " dense_3 (Dense)             (None, 50)                3050      \n",
            "                                                                 \n",
            " dense_4 (Dense)             (None, 40)                2040      \n",
            "                                                                 \n",
            " dense_5 (Dense)             (None, 30)                1230      \n",
            "                                                                 \n",
            " dense_6 (Dense)             (None, 20)                620       \n",
            "                                                                 \n",
            "=================================================================\n",
            "Total params: 17,750\n",
            "Trainable params: 17,750\n",
            "Non-trainable params: 0\n",
            "_________________________________________________________________\n"
          ]
        }
      ],
      "source": [
        "autoencoder.encoder.summary()"
      ]
    },
    {
      "cell_type": "code",
      "execution_count": null,
      "metadata": {
        "colab": {
          "base_uri": "https://localhost:8080/"
        },
        "id": "YmOO0iqu7Tye",
        "outputId": "10312a6d-e0a9-466b-8c61-b513e00b6ea3"
      },
      "outputs": [
        {
          "output_type": "stream",
          "name": "stdout",
          "text": [
            "Model: \"sequential_1\"\n",
            "_________________________________________________________________\n",
            " Layer (type)                Output Shape              Param #   \n",
            "=================================================================\n",
            " dense_7 (Dense)             (None, 20)                420       \n",
            "                                                                 \n",
            " dense_8 (Dense)             (None, 30)                630       \n",
            "                                                                 \n",
            " dense_9 (Dense)             (None, 40)                1240      \n",
            "                                                                 \n",
            " dense_10 (Dense)            (None, 50)                2050      \n",
            "                                                                 \n",
            " dense_11 (Dense)            (None, 60)                3060      \n",
            "                                                                 \n",
            " dense_12 (Dense)            (None, 70)                4270      \n",
            "                                                                 \n",
            " dense_13 (Dense)            (None, 80)                5680      \n",
            "                                                                 \n",
            " dense_14 (Dense)            (None, 10)                810       \n",
            "                                                                 \n",
            "=================================================================\n",
            "Total params: 18,160\n",
            "Trainable params: 18,160\n",
            "Non-trainable params: 0\n",
            "_________________________________________________________________\n"
          ]
        }
      ],
      "source": [
        "autoencoder.decoder.summary()"
      ]
    },
    {
      "cell_type": "code",
      "execution_count": null,
      "metadata": {
        "colab": {
          "base_uri": "https://localhost:8080/",
          "height": 282
        },
        "id": "T7Usjf4aZduc",
        "outputId": "ae12da97-80d6-4258-e727-46eaa86c11a6"
      },
      "outputs": [
        {
          "output_type": "execute_result",
          "data": {
            "text/plain": [
              "<matplotlib.legend.Legend at 0x7ff1d89e0610>"
            ]
          },
          "metadata": {},
          "execution_count": 26
        },
        {
          "output_type": "display_data",
          "data": {
            "text/plain": [
              "<Figure size 432x288 with 1 Axes>"
            ],
            "image/png": "[encoded data removed]"
          },
          "metadata": {
            "needs_background": "light"
          }
        }
      ],
      "source": [
        "plt.plot(history.history[\"loss\"], label=\"Training Loss\")\n",
        "plt.plot(history.history[\"val_loss\"], label=\"Validation Loss\")\n",
        "plt.legend()"
      ]
    },
    {
      "cell_type": "code",
      "execution_count": null,
      "metadata": {
        "colab": {
          "base_uri": "https://localhost:8080/",
          "height": 265
        },
        "id": "xRTeb1h7Zduc",
        "outputId": "87e9b583-5938-465d-f178-ce770829b5b7"
      },
      "outputs": [
        {
          "output_type": "display_data",
          "data": {
            "text/plain": [
              "<Figure size 432x288 with 1 Axes>"
            ],
            "image/png": "[encoded data removed]"
          },
          "metadata": {
            "needs_background": "light"
          }
        }
      ],
      "source": [
        "encoded_data = autoencoder.encoder(normal_test_data).numpy()\n",
        "decoded_data = autoencoder.decoder(encoded_data).numpy()\n",
        "\n",
        "plt.plot(normal_test_data[0], 'g')\n",
        "plt.plot(decoded_data[0], 'r')\n",
        "plt.fill_between(np.arange(10), decoded_data[0], normal_test_data[0], color='lightcoral')\n",
        "plt.legend(labels=[\"Input\", \"Reconstruction\", \"Error\"])\n",
        "plt.show()"
      ]
    },
    {
      "cell_type": "code",
      "execution_count": null,
      "metadata": {
        "colab": {
          "base_uri": "https://localhost:8080/",
          "height": 265
        },
        "id": "Il4vHG9WZduc",
        "outputId": "97d7b68d-0f48-4ac7-886d-156408e86d15"
      },
      "outputs": [
        {
          "output_type": "display_data",
          "data": {
            "text/plain": [
              "<Figure size 432x288 with 1 Axes>"
            ],
            "image/png": "[encoded data removed]"
          },
          "metadata": {
            "needs_background": "light"
          }
        }
      ],
      "source": [
        "encoded_data = autoencoder.encoder(anomalous_test_data).numpy()\n",
        "decoded_data = autoencoder.decoder(encoded_data).numpy()\n",
        "\n",
        "plt.plot(anomalous_test_data[0], 'g')\n",
        "plt.plot(decoded_data[0], 'r')\n",
        "plt.fill_between(np.arange(10), decoded_data[0], anomalous_test_data[0], color='lightcoral')\n",
        "plt.legend(labels=[\"Input\", \"Reconstruction\", \"Error\"])\n",
        "plt.show()"
      ]
    },
    {
      "cell_type": "code",
      "execution_count": null,
      "metadata": {
        "colab": {
          "base_uri": "https://localhost:8080/",
          "height": 278
        },
        "id": "R3Xf51TYZduc",
        "outputId": "b4045e13-58f9-417a-9b47-e6057b91cd44"
      },
      "outputs": [
        {
          "output_type": "display_data",
          "data": {
            "text/plain": [
              "<Figure size 432x288 with 1 Axes>"
            ],
            "image/png": "[encoded data removed]"
          },
          "metadata": {
            "needs_background": "light"
          }
        }
      ],
      "source": [
        "reconstructions = autoencoder.predict(normal_train_data)\n",
        "train_loss = tf.keras.losses.mae(reconstructions, normal_train_data)\n",
        "\n",
        "plt.hist(train_loss[None,:], bins=30)\n",
        "plt.xlabel(\"Train loss\")\n",
        "plt.ylabel(\"No of examples\")\n",
        "plt.show()"
      ]
    },
    {
      "cell_type": "code",
      "execution_count": null,
      "metadata": {
        "colab": {
          "base_uri": "https://localhost:8080/"
        },
        "id": "QmAfIDBZZduc",
        "outputId": "d203124a-44b6-4f06-92f6-99b6d085d849"
      },
      "outputs": [
        {
          "output_type": "stream",
          "name": "stdout",
          "text": [
            "Threshold:  0.0007312862784257117\n"
          ]
        }
      ],
      "source": [
        "threshold = np.mean(train_loss) + np.std(train_loss) \n",
        "print(\"Threshold: \", threshold)"
      ]
    },
    {
      "cell_type": "code",
      "execution_count": null,
      "metadata": {
        "colab": {
          "base_uri": "https://localhost:8080/",
          "height": 278
        },
        "id": "AjEHdY16Zdud",
        "outputId": "a5f71085-2dcd-41ac-e6ac-d960e32ccdb0"
      },
      "outputs": [
        {
          "output_type": "display_data",
          "data": {
            "text/plain": [
              "<Figure size 432x288 with 1 Axes>"
            ],
            "image/png": "[encoded data removed]"
          },
          "metadata": {
            "needs_background": "light"
          }
        }
      ],
      "source": [
        "reconstructions = autoencoder.predict(anomalous_test_data)\n",
        "test_loss = tf.keras.losses.mae(reconstructions, anomalous_test_data)\n",
        "\n",
        "plt.hist(test_loss[None, :], bins=30)\n",
        "plt.xlabel(\"Test loss\")\n",
        "plt.ylabel(\"No of examples\")\n",
        "plt.show()"
      ]
    },
    {
      "cell_type": "markdown",
      "metadata": {
        "id": "TvCKp3N-CCo2"
      },
      "source": [
        "## 7) Results"
      ]
    },
    {
      "cell_type": "code",
      "execution_count": null,
      "metadata": {
        "id": "yrkOw4ygZdud"
      },
      "outputs": [],
      "source": [
        "def predict(model, data, threshold):\n",
        "  reconstructions = model(data)\n",
        "  loss = tf.keras.losses.mae(reconstructions, data)\n",
        "  return tf.math.less(loss, threshold)"
      ]
    },
    {
      "cell_type": "code",
      "execution_count": null,
      "metadata": {
        "colab": {
          "base_uri": "https://localhost:8080/",
          "height": 460
        },
        "id": "mxpxu-UkZdud",
        "outputId": "be9709f3-1a3e-4a2e-9843-0c6ddcd46ed9"
      },
      "outputs": [
        {
          "output_type": "stream",
          "name": "stdout",
          "text": [
            "Accuracy on testing data: 85.38%\n",
            "Precision on testing data: 85.69%\n",
            "Recall on testing data: 88.81%\n",
            "F1 on testing data: 87.23%\n",
            "Gini on testing data: 69.78%\n"
          ]
        },
        {
          "output_type": "display_data",
          "data": {
            "text/plain": [
              "<Figure size 1080x360 with 4 Axes>"
            ],
            "image/png": "[encoded data removed]"
          },
          "metadata": {
            "needs_background": "light"
          }
        }
      ],
      "source": [
        "preds = predict(autoencoder, test_data, threshold)\n",
        "\n",
        "y_test = test_labels\n",
        "y_test_pred = preds\n",
        "acc_test = accuracy_score(y_test, y_test_pred)\n",
        "prec_test = precision_score(y_test, y_test_pred)\n",
        "rec_test = recall_score(y_test, y_test_pred)\n",
        "f1_test = f1_score(y_test, y_test_pred)\n",
        "gini_test = 2*roc_auc_score(y_test, y_test_pred)-1\n",
        "\n",
        "\n",
        "cm = confusion_matrix(y_test, y_test_pred)\n",
        "cm2 = confusion_matrix(y_test, y_test_pred, normalize = 'true') \n",
        "\n",
        "fig, ax = plt.subplots(1,2,figsize = (15,5))\n",
        "fig.suptitle(\"Confusion Matrix\", fontsize = 20 )\n",
        "sns.heatmap(cm, cmap = 'RdYlGn', annot=True, fmt='.0f',\n",
        "           xticklabels = [0, 1],\n",
        "           yticklabels = [0, 1],\n",
        "           ax = ax[0]\n",
        "           )\n",
        "\n",
        "ax[0].set_xlabel(\"Predicted Class\", fontsize = 12)\n",
        "ax[0].set_ylabel(\"Actual Class\", fontsize = 12)\n",
        "ax[0].set_title(\"Counts\", fontsize = 15)\n",
        "\n",
        "sns.heatmap(cm2*100, cmap = 'RdYlGn', annot = True, fmt='.0f',\n",
        "           xticklabels = [0, 1],\n",
        "           yticklabels = [0, 1],\n",
        "           ax = ax[1]\n",
        "           )\n",
        "\n",
        "ax[1].set_xlabel(\"Predicted Class\", fontsize = 12)\n",
        "ax[1].set_ylabel(\"Actual Class\", fontsize = 12)\n",
        "ax[1].set_title(\"%\", fontsize = 15)\n",
        "\n",
        "print(f\"Accuracy on testing data: {round(acc_test*100,2)}%\")\n",
        "print(f\"Precision on testing data: {round(np.mean(prec_test*100),2)}%\")\n",
        "print(f\"Recall on testing data: {round(np.mean(rec_test*100),2)}%\")\n",
        "print(f\"F1 on testing data: {round(np.mean(f1_test*100),2)}%\")\n",
        "print(f\"Gini on testing data: {round(np.mean(gini_test*100),2)}%\")"
      ]
    },
    {
      "cell_type": "markdown",
      "source": [
        "### Saving model"
      ],
      "metadata": {
        "id": "3VNXWThMhQvx"
      }
    },
    {
      "cell_type": "code",
      "execution_count": null,
      "metadata": {
        "id": "a2t2iPywLkQj",
        "colab": {
          "base_uri": "https://localhost:8080/"
        },
        "outputId": "7dae03d8-146c-4752-9fa5-6f70a56be3bb"
      },
      "outputs": [
        {
          "output_type": "stream",
          "name": "stdout",
          "text": [
            "INFO:tensorflow:Assets written to: saved_model/my_model/assets\n"
          ]
        }
      ],
      "source": [
        "!mkdir -p saved_model\n",
        "autoencoder.save('saved_model/my_model') "
      ]
    },
    {
      "cell_type": "markdown",
      "source": [
        "## 8) Loading the model"
      ],
      "metadata": {
        "id": "hZxu5hlFhHRR"
      }
    },
    {
      "cell_type": "code",
      "source": [
        "# my_model directory\n",
        "!ls saved_model\n",
        "\n",
        "# Contains an assets folder, saved_model.pb, and variables folder.\n",
        "!ls saved_model/my_model\n",
        "\n",
        "new_model = tf.keras.models.load_model('saved_model/my_model')\n",
        "\n",
        "# Check its architecture\n",
        "new_model.summary()"
      ],
      "metadata": {
        "colab": {
          "base_uri": "https://localhost:8080/"
        },
        "id": "HyuTY6RRg8vj",
        "outputId": "a3ead63c-f509-4844-cbdc-87a604332d3e"
      },
      "execution_count": null,
      "outputs": [
        {
          "output_type": "stream",
          "name": "stdout",
          "text": [
            "my_model\n",
            "assets\tkeras_metadata.pb  saved_model.pb  variables\n",
            "Model: \"anomaly_detector\"\n",
            "_________________________________________________________________\n",
            " Layer (type)                Output Shape              Param #   \n",
            "=================================================================\n",
            " sequential (Sequential)     (None, 20)                17750     \n",
            "                                                                 \n",
            " sequential_1 (Sequential)   (None, 10)                18160     \n",
            "                                                                 \n",
            "=================================================================\n",
            "Total params: 35,910\n",
            "Trainable params: 35,910\n",
            "Non-trainable params: 0\n",
            "_________________________________________________________________\n"
          ]
        }
      ]
    },
    {
      "cell_type": "code",
      "source": [
        "new_model.encoder.summary()"
      ],
      "metadata": {
        "colab": {
          "base_uri": "https://localhost:8080/"
        },
        "id": "Ncz4mGetjO2G",
        "outputId": "5122dce9-ea22-402a-81d0-bafb4aaf0a7c"
      },
      "execution_count": null,
      "outputs": [
        {
          "output_type": "stream",
          "name": "stdout",
          "text": [
            "Model: \"sequential_1\"\n",
            "_________________________________________________________________\n",
            " Layer (type)                Output Shape              Param #   \n",
            "=================================================================\n",
            " dense_7 (Dense)             (None, 20)                420       \n",
            "                                                                 \n",
            " dense_8 (Dense)             (None, 30)                630       \n",
            "                                                                 \n",
            " dense_9 (Dense)             (None, 40)                1240      \n",
            "                                                                 \n",
            " dense_10 (Dense)            (None, 50)                2050      \n",
            "                                                                 \n",
            " dense_11 (Dense)            (None, 60)                3060      \n",
            "                                                                 \n",
            " dense_12 (Dense)            (None, 70)                4270      \n",
            "                                                                 \n",
            " dense_13 (Dense)            (None, 80)                5680      \n",
            "                                                                 \n",
            " dense_14 (Dense)            (None, 10)                810       \n",
            "                                                                 \n",
            "=================================================================\n",
            "Total params: 18,160\n",
            "Trainable params: 18,160\n",
            "Non-trainable params: 0\n",
            "_________________________________________________________________\n"
          ]
        }
      ]
    },
    {
      "cell_type": "code",
      "source": [
        "new_model.decoder.summary()"
      ],
      "metadata": {
        "colab": {
          "base_uri": "https://localhost:8080/"
        },
        "id": "_tJJQZf9iNYf",
        "outputId": "8e1323bf-20a2-4656-aa4a-d015c0ff9b69"
      },
      "execution_count": null,
      "outputs": [
        {
          "output_type": "stream",
          "name": "stdout",
          "text": [
            "Model: \"sequential_1\"\n",
            "_________________________________________________________________\n",
            " Layer (type)                Output Shape              Param #   \n",
            "=================================================================\n",
            " dense_7 (Dense)             (None, 20)                420       \n",
            "                                                                 \n",
            " dense_8 (Dense)             (None, 30)                630       \n",
            "                                                                 \n",
            " dense_9 (Dense)             (None, 40)                1240      \n",
            "                                                                 \n",
            " dense_10 (Dense)            (None, 50)                2050      \n",
            "                                                                 \n",
            " dense_11 (Dense)            (None, 60)                3060      \n",
            "                                                                 \n",
            " dense_12 (Dense)            (None, 70)                4270      \n",
            "                                                                 \n",
            " dense_13 (Dense)            (None, 80)                5680      \n",
            "                                                                 \n",
            " dense_14 (Dense)            (None, 10)                810       \n",
            "                                                                 \n",
            "=================================================================\n",
            "Total params: 18,160\n",
            "Trainable params: 18,160\n",
            "Non-trainable params: 0\n",
            "_________________________________________________________________\n"
          ]
        }
      ]
    },
    {
      "cell_type": "code",
      "source": [
        ""
      ],
      "metadata": {
        "id": "KnHF6fFvniUe"
      },
      "execution_count": null,
      "outputs": []
    }
  ],
  "metadata": {
    "colab": {
      "collapsed_sections": [],
      "name": "Airbus fuel leak detection Autoencoders.ipynb",
      "provenance": []
    },
    "kernelspec": {
      "display_name": "Python 3",
      "name": "python3"
    },
    "language_info": {
      "name": "python"
    }
  },
  "nbformat": 4,
  "nbformat_minor": 0
}